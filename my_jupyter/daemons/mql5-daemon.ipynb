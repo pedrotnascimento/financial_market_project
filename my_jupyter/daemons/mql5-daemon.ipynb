{
 "cells": [
  {
   "cell_type": "code",
   "execution_count": null,
   "metadata": {},
   "outputs": [],
   "source": [
    "import os, sys\n",
    "dir1 = os.path.abspath('..\\..')\n",
    "sys.path.append(dir1+ \"\\\\\")\n",
    "\n",
    "import MetaTrader5 as mt\n",
    "from datetime import datetime as dt\n",
    "\n",
    "# custom\n",
    "from my_jupyter.user import User\n",
    "from my_jupyter.strategy_manager import StrategyManager\n",
    "from my_jupyter.operation import Operation\n",
    "from my_jupyter.strategies.min_max_strategy import MinMaxStrategy\n",
    "from my_jupyter.market_data_repository import MarketDataRepository\n",
    "# from Mbox import Mbox\n",
    "# from boleta_1 import gerar_boleta\n",
    "# from gerenciamento import Gerenciamento\n",
    "\n",
    "## GUI's\n",
    "from daemon_tools import DaemonThreadMini\n"
   ]
  },
  {
   "cell_type": "code",
   "execution_count": null,
   "metadata": {},
   "outputs": [],
   "source": [
    "strategies = [MinMaxStrategy()]\n",
    "operation = Operation(\"WINV23\", 1, mt.TIMEFRAME_M1, True, True)\n",
    "user = User(strategies=strategies,operations=[operation], trading_time_start=dt.now())\n",
    "market_data_repository = MarketDataRepository()\n",
    "strategy = StrategyManager(market_data_repository, user)\n",
    "\n",
    "# PARAMETROS MAIN\n",
    "kwargs = {\n",
    "    'strategy': strategy,\n",
    "}\n",
    "\n",
    "def main(**kwargs):\n",
    "    _shift= 0 \n",
    "    strategy: StrategyManager = kwargs['strategy']\n",
    "    strategy.run_strategies()\n",
    "    # print(f\"{dt.now().strftime('%d/%m/%Y, %H:%M:%S')} >>> D-{_shift}\")"
   ]
  },
  {
   "cell_type": "code",
   "execution_count": null,
   "metadata": {},
   "outputs": [],
   "source": [
    "def exec_daemon(**kwargs):\n",
    "    main(**kwargs)\n",
    "    # alarme.ring_alarme()   "
   ]
  },
  {
   "cell_type": "code",
   "execution_count": null,
   "metadata": {},
   "outputs": [],
   "source": [
    "# gerenciamento = Gerenciamento(mt, timeframe, timeframes_dict)\n",
    "\n",
    "try:\n",
    "    main(**kwargs)\n",
    "except Exception as e:\n",
    "    print(e.with_traceback(__tb=None))\n",
    "    # Mbox.Alerta(\"ERRO\", \"busca de sinais com erro\")\n"
   ]
  },
  {
   "cell_type": "code",
   "execution_count": null,
   "metadata": {},
   "outputs": [],
   "source": [
    "from my_jupyter.daemons.daemon_tools import DaemonThreadMini\n",
    "\n",
    "\n",
    "thread_exec = DaemonThreadMini(exec_daemon, seconds=0, mseconds=100, **kwargs)\n",
    "thread_exec.start()"
   ]
  },
  {
   "cell_type": "code",
   "execution_count": null,
   "metadata": {},
   "outputs": [],
   "source": [
    "from datetime import timedelta as td, datetime as dt\n",
    "import pandas as pd\n",
    "import numpy as np\n",
    "import threading\n",
    "import time\n",
    "from matplotlib import pyplot as plt\n",
    "from my_jupyter.metatrader_wrapper import MetatraderWrapper\n",
    "from IPython.display import display, clear_output\n",
    "\n",
    "mt = MetatraderWrapper()\n",
    "mt.demo_on()\n",
    "\n",
    "td_ = td(hours=3, minutes=5)\n",
    "now = dt.now()\n",
    "nexti = dt(now.year, now.month, now.day, now.hour, now.minute, now.second) - td_\n",
    "# print(nexti)\n",
    "# ticks = market_data_repository.mt.copy_ticks_from(\"WINV23\", nexti,100, mt.TICK_FLAG_VOLUME)\n",
    "# fig = plt.figure()\n",
    "# ax = fig.add_subplot(111)\n",
    "# line1, = ax.plot([], [], 'r-') # Returns a tuple of line objects, thus the comma\n",
    "# Enable interactive mode for Matplotlib\n",
    "plt.ion()\n",
    "\n",
    "# Create initial empty plot\n",
    "fig, ax = plt.subplots()\n",
    "(line,) = ax.plot([], [])\n",
    "(avg_,) = ax.plot([], [])\n",
    "ax.set_ylim(0, 10)\n",
    "ax.set_xlim(0, 2*60+1)\n",
    "fig.set_figheight(6)\n",
    "fig.set_figwidth(8)\n",
    "\n",
    "y_max = -1\n",
    "# plt.show()\n",
    "while True:\n",
    "    now = dt.now()\n",
    "    nexti = now - td_\n",
    "    ticks = mt.mt.copy_ticks_range(\"WINV23\", nexti, now, mt.mt.COPY_TICKS_ALL)\n",
    "\n",
    "    ticks_frame = pd.DataFrame(ticks)\n",
    "\n",
    "    # ticks_frame[\"time\"] = pd.to_datetime(ticks_frame[\"time_msc\"]/1000, unit=\"s\")\n",
    "    ticks_frame[\"time\"] = round(ticks_frame[\"time_msc\"] / 1000)\n",
    "    ticks_frame[\"time_dt\"] = pd.to_datetime(round(ticks_frame[\"time_msc\"]/1000), unit=\"s\")\n",
    "\n",
    "    # ticks_frame.groupby(ticks_frame['time'].dt.second)['volume'].agg('sum')\n",
    "    # data = ticks_frame.groupby([ticks_frame['time'].dt.minute, ticks_frame['time'].dt.second]).agg(volume=('volume','sum'))\n",
    "    data = ticks_frame.groupby([ticks_frame[\"time_dt\"]]).agg(\n",
    "        volume=(\"volume\", \"sum\")\n",
    "    )\n",
    "\n",
    "    a = pd.Series(list(data.values)).rolling(10).mean()\n",
    "    y = list(map(lambda x: x, data.values))\n",
    "    # x = list(map(lambda x: dt(x), data.index -min(x)))\n",
    "    x = list(map(lambda x: x, data.index ))\n",
    "    y_max = max(y)\n",
    "    ax.set_ylim(0,y_max)\n",
    "    ax.set_xlim(data.index[0], data.index[-1] )\n",
    "    print(nexti, now)\n",
    "\n",
    "    # ax.set_xlim(0,len(x)+1)\n",
    "\n",
    "    print(len(x), x)\n",
    "    print(len(y), y)\n",
    "    line.set_data(x, y)\n",
    "    avg_.set_data(x,a)\n",
    "\n",
    "    # Redraw the plot\n",
    "    display(fig)\n",
    "    clear_output(wait=True)\n",
    "    time.sleep(2)\n",
    "\n",
    "    # print(\"Hiiiiiiiiiiii\")\n",
    "    # ax.clear()\n",
    "    # # ax.plot(data.index, data.values)\n",
    "    # print(\"show\")\n",
    "    # fig.canvas.draw()\n",
    "    # fig.canvas.flush_events()\n",
    "    # plt.show()\n",
    "\n",
    "    # refresh()\n",
    "    # t =threading.Thread(target=refresh)\n",
    "    # t.start()\n",
    "    # print(data.index, data.values)"
   ]
  },
  {
   "cell_type": "code",
   "execution_count": null,
   "metadata": {},
   "outputs": [],
   "source": [
    "import threading\n",
    "import time\n",
    "def print_it():\n",
    "    while True:\n",
    "        print(\"hi\")\n",
    "        time.sleep(1)\n",
    "t = threading.Thread(target=lambda : print_it())\n",
    "t.daemon = True\n",
    "t.start()"
   ]
  },
  {
   "cell_type": "code",
   "execution_count": null,
   "metadata": {},
   "outputs": [],
   "source": [
    "bars = mt.mt.copy_rates_from_pos(\"PETR4\", mt.mt.TIMEFRAME_D1, 0, 1000000-1)[::-1]\n"
   ]
  },
  {
   "cell_type": "code",
   "execution_count": null,
   "metadata": {},
   "outputs": [],
   "source": [
    "bars = mt.mt.copy_rates_from_pos(\"WIN$\", mt.mt.TIMEFRAME_D1, 0, 1000000 - 1)[::-1]\n"
   ]
  },
  {
   "cell_type": "code",
   "execution_count": null,
   "metadata": {},
   "outputs": [],
   "source": [
    "bars = mt.mt.copy_rates_from_pos(\"PETR4\", mt.mt.TIMEFRAME_D1, 0, 1000000 - 1)[::-1]\n"
   ]
  },
  {
   "cell_type": "code",
   "execution_count": null,
   "metadata": {},
   "outputs": [],
   "source": [
    "bars = mt.mt.copy_rates_from_pos(\"WIN$\", mt.mt.TIMEFRAME_M1, 0, 100000-1)[::-1]\n"
   ]
  },
  {
   "cell_type": "code",
   "execution_count": null,
   "metadata": {},
   "outputs": [],
   "source": [
    "bars = mt.mt.copy_rates_from_pos(\"WIN$\", mt.mt.TIMEFRAME_M5, 0, 100000 - 1)[::-1]\n"
   ]
  }
 ],
 "metadata": {
  "interpreter": {
   "hash": "04635d289a519a1410467dd0afb0db42f9184808881ca68b2eb5a687a20a5a94"
  },
  "kernelspec": {
   "display_name": "Python 3.7.9 64-bit",
   "name": "python3"
  },
  "language_info": {
   "codemirror_mode": {
    "name": "ipython",
    "version": 3
   },
   "file_extension": ".py",
   "mimetype": "text/x-python",
   "name": "python",
   "nbconvert_exporter": "python",
   "pygments_lexer": "ipython3",
   "version": "3.11.4"
  },
  "orig_nbformat": 4
 },
 "nbformat": 4,
 "nbformat_minor": 2
}
