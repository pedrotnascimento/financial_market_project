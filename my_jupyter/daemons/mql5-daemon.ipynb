{
 "cells": [
  {
   "cell_type": "code",
   "execution_count": null,
   "metadata": {},
   "outputs": [],
   "source": [
    "import os, sys\n",
    "\n",
    "dir1 = os.path.abspath(\"..\\..\")\n",
    "sys.path.append(dir1 + \"\\\\\")\n",
    "\n",
    "import MetaTrader5 as mt\n",
    "from datetime import datetime as dt\n",
    "\n",
    "# custom\n",
    "from my_jupyter.user import User\n",
    "from my_jupyter.strategy_manager import StrategyManager\n",
    "from my_jupyter.operation import Operation\n",
    "from my_jupyter.strategies.min_max_strategy import MinMaxStrategy\n",
    "from my_jupyter.market_data_repository import MarketDataRepository\n",
    "from my_jupyter.filters.moving_average import MovingAverageFilter\n",
    "from my_jupyter.filters.consequent_limits_counter import ConsequentLimitsCounterFilter\n",
    "from my_jupyter.filters.directioned_bars_filter import DirectionedBarsFilter\n",
    "\n",
    "# from SimpleAlert import SimpleAlert\n",
    "# from boleta_1 import gerar_boleta\n",
    "# from gerenciamento import Gerenciamento\n",
    "\n",
    "## GUI's\n",
    "from daemon_tools import DaemonThreadMini"
   ]
  },
  {
   "cell_type": "code",
   "execution_count": null,
   "metadata": {},
   "outputs": [],
   "source": [
    "filters = [\n",
    "    DirectionedBarsFilter(candles=5),\n",
    "    MovingAverageFilter(),\n",
    "    MovingAverageFilter(period=200),\n",
    "]\n",
    "strategies = [MinMaxStrategy(filters=filters)]\n",
    "operations = [Operation(\"WINV23\", 1, mt.TIMEFRAME_M1, can_buy=True, can_sell=True)]\n",
    "user = User(\n",
    "    strategies=strategies,\n",
    "    operations=operations,\n",
    "    trading_time_start=dt(2023, 10, 5, 9, 5, 0),\n",
    ")\n",
    "market_data_repository = MarketDataRepository()\n",
    "strategy = StrategyManager(market_data_repository, user)\n",
    "\n",
    "# PARAMETROS MAIN\n",
    "kwargs = {\n",
    "    \"strategy\": strategy,\n",
    "}\n",
    "\n",
    "\n",
    "def main(**kwargs):\n",
    "    _shift = 0\n",
    "    strategy: StrategyManager = kwargs[\"strategy\"]\n",
    "    strategy.run_strategies()\n",
    "    # print(f\"{dt.now().strftime('%d/%m/%Y, %H:%M:%S')} >>> D-{_shift}\")\n",
    "\n",
    "\n",
    "def exec_daemon(**kwargs):\n",
    "    main(**kwargs)\n",
    "    # alarme.ring_alarme()"
   ]
  },
  {
   "cell_type": "code",
   "execution_count": null,
   "metadata": {},
   "outputs": [],
   "source": [
    "# gerenciamento = Gerenciamento(mt, timeframe, timeframes_dict)\n",
    "\n",
    "try:\n",
    "    main(**kwargs)\n",
    "except Exception as e:\n",
    "    print(e.with_traceback(__tb=None))\n",
    "    # SimpleAlert.Alerta(\"ERRO\", \"busca de sinais com erro\")"
   ]
  },
  {
   "cell_type": "code",
   "execution_count": null,
   "metadata": {},
   "outputs": [],
   "source": [
    "# from my_jupyter.daemons.daemon_tools import DaemonThreadMini\n",
    "\n",
    "\n",
    "# thread_exec = DaemonThreadMini(exec_daemon, seconds=0, mseconds=800, **kwargs)\n",
    "# thread_exec.start()"
   ]
  }
 ],
 "metadata": {
  "interpreter": {
   "hash": "04635d289a519a1410467dd0afb0db42f9184808881ca68b2eb5a687a20a5a94"
  },
  "kernelspec": {
   "display_name": "Python 3.7.9 64-bit",
   "name": "python3"
  },
  "language_info": {
   "codemirror_mode": {
    "name": "ipython",
    "version": 3
   },
   "file_extension": ".py",
   "mimetype": "text/x-python",
   "name": "python",
   "nbconvert_exporter": "python",
   "pygments_lexer": "ipython3",
   "version": "3.11.4"
  },
  "orig_nbformat": 4
 },
 "nbformat": 4,
 "nbformat_minor": 2
}
