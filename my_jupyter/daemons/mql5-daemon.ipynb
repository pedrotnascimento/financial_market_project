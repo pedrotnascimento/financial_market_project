{
 "cells": [
  {
   "cell_type": "code",
   "execution_count": null,
   "metadata": {},
   "outputs": [],
   "source": [
    "import os, sys\n",
    "dir1 = os.path.abspath('..\\..')\n",
    "sys.path.append(dir1+ \"\\\\\")\n",
    "\n",
    "import MetaTrader5 as mt\n",
    "from datetime import datetime as dt\n",
    "\n",
    "# custom\n",
    "from my_jupyter.user import User\n",
    "from my_jupyter.strategy_manager import StrategyManager\n",
    "from my_jupyter.operation import Operation\n",
    "from my_jupyter.strategies.min_max_strategy import MinMaxStrategy\n",
    "from my_jupyter.market_data_repository import MarketDataRepository\n",
    "from my_jupyter.filters.moving_average import MovingAverageFilter\n",
    "from my_jupyter.filters.consequent_limits_counter import ConsequentLimitsCounterFilter\n",
    "from my_jupyter.filters.directioned_bars_filter import DirectionedBarsFilter\n",
    "\n",
    "# from Mbox import Mbox\n",
    "# from boleta_1 import gerar_boleta\n",
    "# from gerenciamento import Gerenciamento\n",
    "\n",
    "## GUI's\n",
    "from daemon_tools import DaemonThreadMini\n"
   ]
  },
  {
   "cell_type": "code",
   "execution_count": null,
   "metadata": {},
   "outputs": [],
   "source": [
    "\n",
    "\n",
    "filters = [DirectionedBarsFilter(candles=5), MovingAverageFilter(), MovingAverageFilter(period=200)]\n",
    "strategies = [MinMaxStrategy(filters=filters)]\n",
    "operations = [Operation(\"WINV23\", 1, mt.TIMEFRAME_M1, can_buy=True, can_sell=True)]\n",
    "user = User(strategies=strategies, operations=operations, trading_time_start=dt(2023,10,5,9,5,0))\n",
    "market_data_repository = MarketDataRepository()\n",
    "strategy = StrategyManager(market_data_repository, user)\n",
    "\n",
    "# PARAMETROS MAIN\n",
    "kwargs = {\n",
    "    \"strategy\": strategy,\n",
    "}\n",
    "\n",
    "\n",
    "def main(**kwargs):\n",
    "    _shift = 0\n",
    "    strategy: StrategyManager = kwargs[\"strategy\"]\n",
    "    strategy.run_strategies()\n",
    "    # print(f\"{dt.now().strftime('%d/%m/%Y, %H:%M:%S')} >>> D-{_shift}\")\n",
    "def exec_daemon(**kwargs):\n",
    "    main(**kwargs)\n",
    "    # alarme.ring_alarme()"
   ]
  },
  {
   "cell_type": "code",
   "execution_count": null,
   "metadata": {},
   "outputs": [],
   "source": [
    "# gerenciamento = Gerenciamento(mt, timeframe, timeframes_dict)\n",
    "\n",
    "try:\n",
    "    main(**kwargs)\n",
    "except Exception as e:\n",
    "    print(e.with_traceback(__tb=None))\n",
    "    # Mbox.Alerta(\"ERRO\", \"busca de sinais com erro\")\n"
   ]
  },
  {
   "cell_type": "code",
   "execution_count": null,
   "metadata": {},
   "outputs": [],
   "source": [
    "# from my_jupyter.daemons.daemon_tools import DaemonThreadMini\n",
    "\n",
    "\n",
    "# thread_exec = DaemonThreadMini(exec_daemon, seconds=0, mseconds=800, **kwargs)\n",
    "# thread_exec.start()"
   ]
  },
  {
   "cell_type": "code",
   "execution_count": 1,
   "metadata": {},
   "outputs": [
    {
     "name": "stderr",
     "output_type": "stream",
     "text": [
      "c:\\repo\\python\\financial-api\\my_jupyter\\modules\\backtest_module.py:29: UserWarning: Data index is not datetime. Assuming simple periods, but `pd.DateTimeIndex` is advised.\n",
      "  bt = Backtest(\n",
      "c:\\repo\\python\\financial-api\\my_jupyter\\modules\\backtest_module.py:144: FutureWarning: Series.__getitem__ treating keys as positions is deprecated. In a future version, integer keys will always be treated as labels (consistent with DataFrame behavior). To access a value by position, use `ser.iloc[pos]`\n",
      "  curr_min = curr[-1]\n"
     ]
    },
    {
     "name": "stdout",
     "output_type": "stream",
     "text": [
      "1167 1075\n",
      "Epoch 1/10\n",
      "84/84 [==============================] - 2s 8ms/step - loss: 1.0587 - accuracy: 0.4132 - val_loss: 0.9904 - val_accuracy: 0.7023\n",
      "Epoch 2/10\n",
      "84/84 [==============================] - 0s 3ms/step - loss: 0.8463 - accuracy: 0.7023 - val_loss: 0.6619 - val_accuracy: 0.7458\n",
      "Epoch 3/10\n",
      "84/84 [==============================] - 0s 3ms/step - loss: 0.5960 - accuracy: 0.8126 - val_loss: 0.5386 - val_accuracy: 0.8227\n",
      "Epoch 4/10\n",
      "84/84 [==============================] - 0s 4ms/step - loss: 0.5062 - accuracy: 0.8096 - val_loss: 0.4741 - val_accuracy: 0.8261\n",
      "Epoch 5/10\n",
      "84/84 [==============================] - 0s 4ms/step - loss: 0.4698 - accuracy: 0.8148 - val_loss: 0.4598 - val_accuracy: 0.8194\n",
      "Epoch 6/10\n",
      "84/84 [==============================] - 0s 5ms/step - loss: 0.4530 - accuracy: 0.8115 - val_loss: 0.4468 - val_accuracy: 0.8294\n",
      "Epoch 7/10\n",
      "84/84 [==============================] - 0s 4ms/step - loss: 0.4423 - accuracy: 0.8182 - val_loss: 0.4410 - val_accuracy: 0.8328\n",
      "Epoch 8/10\n",
      "84/84 [==============================] - 0s 5ms/step - loss: 0.4434 - accuracy: 0.8148 - val_loss: 0.4887 - val_accuracy: 0.7860\n",
      "Epoch 9/10\n",
      "84/84 [==============================] - 0s 5ms/step - loss: 0.4372 - accuracy: 0.8178 - val_loss: 0.4249 - val_accuracy: 0.8227\n",
      "Epoch 10/10\n",
      "84/84 [==============================] - 0s 4ms/step - loss: 0.4267 - accuracy: 0.8215 - val_loss: 0.4264 - val_accuracy: 0.8227\n",
      "11/11 [==============================] - 0s 3ms/step - loss: 0.4494 - accuracy: 0.8223\n",
      "Acurácia do modelo nos dados de teste: 0.8222891688346863\n"
     ]
    }
   ],
   "source": [
    "import os, sys\n",
    "\n",
    "dir1 = os.path.abspath(\"..\\..\")\n",
    "\n",
    "if dir1 not in sys.path:\n",
    "    sys.path.append(dir1 + \"\\\\\")\n",
    "from my_jupyter.indicator.bars_trend_quality_ml import BarsTrendQualityML\n",
    "from my_jupyter.market_data_repository import MarketDataRepository\n",
    "from datetime import datetime as dt \n",
    "import pandas as pd \n",
    "# mt_rep = MarketDataRepository()\n",
    "# ohlc = mt_rep.read_data(\"WINV23\",mt_rep.mt.TIMEFRAME_M1,6)\n",
    "# ohlc = mt_rep.mt.copy_rates_from_pos(\"WINV23\", mt_rep.mt.TIMEFRAME_M1, 0, 99999)\n",
    "# ohlc_0_based = ohlc[::-1]\n",
    "\n",
    "# from_file  = \"dataset\\WINV23M1.csv\"\n",
    "# ohlc_df = pd.DataFrame(ohlc)\n",
    "bars_trend_ml = BarsTrendQualityML()\n",
    "bars_trend_ml.set_machine_learning_model(from_stock_market_data=\"WIN$\")\n"
   ]
  },
  {
   "cell_type": "code",
   "execution_count": 7,
   "metadata": {},
   "outputs": [
    {
     "data": {
      "text/plain": [
       "<Axes: >"
      ]
     },
     "execution_count": 7,
     "metadata": {},
     "output_type": "execute_result"
    }
   ],
   "source": []
  },
  {
   "cell_type": "code",
   "execution_count": 2,
   "metadata": {},
   "outputs": [
    {
     "name": "stdout",
     "output_type": "stream",
     "text": [
      "(1697046840, 117385., 117415., 117340., 117375., 386, 5, 5495) [65. 50. 55. 35.  0.]\n"
     ]
    },
    {
     "name": "stderr",
     "output_type": "stream",
     "text": [
      "c:\\repo\\python\\financial-api\\venv\\Lib\\site-packages\\sklearn\\base.py:465: UserWarning: X does not have valid feature names, but MinMaxScaler was fitted with feature names\n",
      "  warnings.warn(\n"
     ]
    },
    {
     "name": "stdout",
     "output_type": "stream",
     "text": [
      "1/1 [==============================] - 0s 155ms/step\n",
      ">>>>>>> [[12. 82. 58.]] 2023-10-11 15:01:00\n",
      "1/1 [==============================] - 0s 43ms/step\n",
      ">>>>>>> [[ 4. 83. 83.]] 2023-10-11 14:54:00\n"
     ]
    },
    {
     "name": "stderr",
     "output_type": "stream",
     "text": [
      "c:\\repo\\python\\financial-api\\venv\\Lib\\site-packages\\sklearn\\base.py:465: UserWarning: X does not have valid feature names, but MinMaxScaler was fitted with feature names\n",
      "  warnings.warn(\n",
      "c:\\repo\\python\\financial-api\\venv\\Lib\\site-packages\\sklearn\\base.py:465: UserWarning: X does not have valid feature names, but MinMaxScaler was fitted with feature names\n",
      "  warnings.warn(\n"
     ]
    },
    {
     "name": "stdout",
     "output_type": "stream",
     "text": [
      "1/1 [==============================] - 0s 34ms/step\n",
      ">>>>>>> [[ 4. 82. 83.]] 2023-10-11 14:53:00\n",
      "1/1 [==============================] - 0s 31ms/step\n",
      ">>>>>>> [[ 3. 82. 87.]] 2023-10-11 14:52:00\n"
     ]
    },
    {
     "name": "stderr",
     "output_type": "stream",
     "text": [
      "c:\\repo\\python\\financial-api\\venv\\Lib\\site-packages\\sklearn\\base.py:465: UserWarning: X does not have valid feature names, but MinMaxScaler was fitted with feature names\n",
      "  warnings.warn(\n",
      "c:\\repo\\python\\financial-api\\venv\\Lib\\site-packages\\sklearn\\base.py:465: UserWarning: X does not have valid feature names, but MinMaxScaler was fitted with feature names\n",
      "  warnings.warn(\n"
     ]
    },
    {
     "name": "stdout",
     "output_type": "stream",
     "text": [
      "1/1 [==============================] - 0s 50ms/step\n",
      ">>>>>>> [[ 7. 82. 73.]] 2023-10-11 14:51:00\n",
      "1/1 [==============================] - 0s 47ms/step\n",
      ">>>>>>> [[ 6. 82. 77.]] 2023-10-11 14:50:00\n"
     ]
    },
    {
     "name": "stderr",
     "output_type": "stream",
     "text": [
      "c:\\repo\\python\\financial-api\\venv\\Lib\\site-packages\\sklearn\\base.py:465: UserWarning: X does not have valid feature names, but MinMaxScaler was fitted with feature names\n",
      "  warnings.warn(\n",
      "c:\\repo\\python\\financial-api\\venv\\Lib\\site-packages\\sklearn\\base.py:465: UserWarning: X does not have valid feature names, but MinMaxScaler was fitted with feature names\n",
      "  warnings.warn(\n"
     ]
    },
    {
     "name": "stdout",
     "output_type": "stream",
     "text": [
      "1/1 [==============================] - 0s 51ms/step\n",
      ">>>>>>> [[24. 80. 39.]] 2023-10-11 14:49:00\n",
      "1/1 [==============================] - 0s 49ms/step\n",
      ">>>>>>> [[62. 79. 10.]] 2023-10-11 14:48:00\n"
     ]
    },
    {
     "name": "stderr",
     "output_type": "stream",
     "text": [
      "c:\\repo\\python\\financial-api\\venv\\Lib\\site-packages\\sklearn\\base.py:465: UserWarning: X does not have valid feature names, but MinMaxScaler was fitted with feature names\n",
      "  warnings.warn(\n",
      "c:\\repo\\python\\financial-api\\venv\\Lib\\site-packages\\sklearn\\base.py:465: UserWarning: X does not have valid feature names, but MinMaxScaler was fitted with feature names\n",
      "  warnings.warn(\n"
     ]
    },
    {
     "name": "stdout",
     "output_type": "stream",
     "text": [
      "1/1 [==============================] - 0s 53ms/step\n",
      ">>>>>>> [[68. 79.  8.]] 2023-10-11 14:47:00\n",
      "1/1 [==============================] - 0s 50ms/step\n",
      ">>>>>>> [[76. 78.  6.]] 2023-10-11 14:46:00\n"
     ]
    },
    {
     "name": "stderr",
     "output_type": "stream",
     "text": [
      "c:\\repo\\python\\financial-api\\venv\\Lib\\site-packages\\sklearn\\base.py:465: UserWarning: X does not have valid feature names, but MinMaxScaler was fitted with feature names\n",
      "  warnings.warn(\n",
      "c:\\repo\\python\\financial-api\\venv\\Lib\\site-packages\\sklearn\\base.py:465: UserWarning: X does not have valid feature names, but MinMaxScaler was fitted with feature names\n",
      "  warnings.warn(\n"
     ]
    },
    {
     "name": "stdout",
     "output_type": "stream",
     "text": [
      "1/1 [==============================] - 0s 41ms/step\n",
      ">>>>>>> [[53. 80. 14.]] 2023-10-11 14:45:00\n",
      "1/1 [==============================] - 0s 28ms/step\n",
      ">>>>>>> [[39. 81. 22.]] 2023-10-11 14:44:00\n"
     ]
    },
    {
     "name": "stderr",
     "output_type": "stream",
     "text": [
      "c:\\repo\\python\\financial-api\\venv\\Lib\\site-packages\\sklearn\\base.py:465: UserWarning: X does not have valid feature names, but MinMaxScaler was fitted with feature names\n",
      "  warnings.warn(\n",
      "c:\\repo\\python\\financial-api\\venv\\Lib\\site-packages\\sklearn\\base.py:465: UserWarning: X does not have valid feature names, but MinMaxScaler was fitted with feature names\n",
      "  warnings.warn(\n"
     ]
    },
    {
     "name": "stdout",
     "output_type": "stream",
     "text": [
      "1/1 [==============================] - 0s 42ms/step\n",
      ">>>>>>> [[36. 81. 24.]] 2023-10-11 14:43:00\n",
      "1/1 [==============================] - 0s 51ms/step\n",
      ">>>>>>> [[23. 81. 38.]] 2023-10-11 14:42:00\n"
     ]
    },
    {
     "name": "stderr",
     "output_type": "stream",
     "text": [
      "c:\\repo\\python\\financial-api\\venv\\Lib\\site-packages\\sklearn\\base.py:465: UserWarning: X does not have valid feature names, but MinMaxScaler was fitted with feature names\n",
      "  warnings.warn(\n",
      "c:\\repo\\python\\financial-api\\venv\\Lib\\site-packages\\sklearn\\base.py:465: UserWarning: X does not have valid feature names, but MinMaxScaler was fitted with feature names\n",
      "  warnings.warn(\n"
     ]
    },
    {
     "name": "stdout",
     "output_type": "stream",
     "text": [
      "1/1 [==============================] - 0s 56ms/step\n",
      ">>>>>>> [[42. 80. 21.]] 2023-10-11 14:41:00\n",
      "1/1 [==============================] - 0s 54ms/step\n",
      ">>>>>>> [[65. 79.  9.]] 2023-10-11 14:40:00\n"
     ]
    },
    {
     "name": "stderr",
     "output_type": "stream",
     "text": [
      "c:\\repo\\python\\financial-api\\venv\\Lib\\site-packages\\sklearn\\base.py:465: UserWarning: X does not have valid feature names, but MinMaxScaler was fitted with feature names\n",
      "  warnings.warn(\n",
      "c:\\repo\\python\\financial-api\\venv\\Lib\\site-packages\\sklearn\\base.py:465: UserWarning: X does not have valid feature names, but MinMaxScaler was fitted with feature names\n",
      "  warnings.warn(\n"
     ]
    },
    {
     "name": "stdout",
     "output_type": "stream",
     "text": [
      "1/1 [==============================] - 0s 47ms/step\n",
      ">>>>>>> [[80. 78.  4.]] 2023-10-11 14:39:00\n",
      "1/1 [==============================] - 0s 54ms/step\n",
      ">>>>>>> [[72. 79.  6.]] 2023-10-11 14:38:00\n"
     ]
    },
    {
     "name": "stderr",
     "output_type": "stream",
     "text": [
      "c:\\repo\\python\\financial-api\\venv\\Lib\\site-packages\\sklearn\\base.py:465: UserWarning: X does not have valid feature names, but MinMaxScaler was fitted with feature names\n",
      "  warnings.warn(\n",
      "c:\\repo\\python\\financial-api\\venv\\Lib\\site-packages\\sklearn\\base.py:465: UserWarning: X does not have valid feature names, but MinMaxScaler was fitted with feature names\n",
      "  warnings.warn(\n"
     ]
    },
    {
     "name": "stdout",
     "output_type": "stream",
     "text": [
      "1/1 [==============================] - 0s 44ms/step\n",
      ">>>>>>> [[15. 82. 50.]] 2023-10-11 14:37:00\n"
     ]
    },
    {
     "name": "stderr",
     "output_type": "stream",
     "text": [
      "c:\\repo\\python\\financial-api\\venv\\Lib\\site-packages\\sklearn\\base.py:465: UserWarning: X does not have valid feature names, but MinMaxScaler was fitted with feature names\n",
      "  warnings.warn(\n"
     ]
    },
    {
     "name": "stdout",
     "output_type": "stream",
     "text": [
      "1/1 [==============================] - 0s 64ms/step\n",
      ">>>>>>> [[ 3. 83. 88.]] 2023-10-11 14:36:00\n",
      "1/1 [==============================] - 0s 64ms/step\n"
     ]
    },
    {
     "name": "stderr",
     "output_type": "stream",
     "text": [
      "c:\\repo\\python\\financial-api\\venv\\Lib\\site-packages\\sklearn\\base.py:465: UserWarning: X does not have valid feature names, but MinMaxScaler was fitted with feature names\n",
      "  warnings.warn(\n",
      "c:\\repo\\python\\financial-api\\venv\\Lib\\site-packages\\sklearn\\base.py:465: UserWarning: X does not have valid feature names, but MinMaxScaler was fitted with feature names\n",
      "  warnings.warn(\n"
     ]
    },
    {
     "name": "stdout",
     "output_type": "stream",
     "text": [
      ">>>>>>> [[ 6. 81. 79.]] 2023-10-11 14:35:00\n",
      "1/1 [==============================] - 0s 47ms/step\n",
      ">>>>>>> [[15. 81. 53.]] 2023-10-11 14:34:00\n",
      "1/1 [==============================] - 0s 46ms/step\n",
      ">>>>>>> [[36. 81. 25.]] 2023-10-11 14:33:00\n"
     ]
    },
    {
     "name": "stderr",
     "output_type": "stream",
     "text": [
      "c:\\repo\\python\\financial-api\\venv\\Lib\\site-packages\\sklearn\\base.py:465: UserWarning: X does not have valid feature names, but MinMaxScaler was fitted with feature names\n",
      "  warnings.warn(\n",
      "c:\\repo\\python\\financial-api\\venv\\Lib\\site-packages\\sklearn\\base.py:465: UserWarning: X does not have valid feature names, but MinMaxScaler was fitted with feature names\n",
      "  warnings.warn(\n"
     ]
    },
    {
     "name": "stdout",
     "output_type": "stream",
     "text": [
      "1/1 [==============================] - 0s 60ms/step\n",
      ">>>>>>> [[25. 81. 35.]] 2023-10-11 14:32:00\n",
      "1/1 [==============================] - 0s 62ms/step\n",
      ">>>>>>> [[11. 82. 61.]] 2023-10-11 14:31:00\n"
     ]
    },
    {
     "name": "stderr",
     "output_type": "stream",
     "text": [
      "c:\\repo\\python\\financial-api\\venv\\Lib\\site-packages\\sklearn\\base.py:465: UserWarning: X does not have valid feature names, but MinMaxScaler was fitted with feature names\n",
      "  warnings.warn(\n",
      "c:\\repo\\python\\financial-api\\venv\\Lib\\site-packages\\sklearn\\base.py:465: UserWarning: X does not have valid feature names, but MinMaxScaler was fitted with feature names\n",
      "  warnings.warn(\n"
     ]
    },
    {
     "name": "stdout",
     "output_type": "stream",
     "text": [
      "1/1 [==============================] - 0s 53ms/step\n",
      ">>>>>>> [[ 8. 82. 69.]] 2023-10-11 14:30:00\n",
      "1/1 [==============================] - 0s 56ms/step\n",
      ">>>>>>> [[ 1. 83. 93.]] 2023-10-11 14:29:00\n"
     ]
    },
    {
     "name": "stderr",
     "output_type": "stream",
     "text": [
      "c:\\repo\\python\\financial-api\\venv\\Lib\\site-packages\\sklearn\\base.py:465: UserWarning: X does not have valid feature names, but MinMaxScaler was fitted with feature names\n",
      "  warnings.warn(\n",
      "c:\\repo\\python\\financial-api\\venv\\Lib\\site-packages\\sklearn\\base.py:465: UserWarning: X does not have valid feature names, but MinMaxScaler was fitted with feature names\n",
      "  warnings.warn(\n"
     ]
    },
    {
     "name": "stdout",
     "output_type": "stream",
     "text": [
      "1/1 [==============================] - 0s 61ms/step\n",
      ">>>>>>> [[ 1. 82. 94.]] 2023-10-11 14:28:00\n",
      "1/1 [==============================] - 0s 44ms/step\n",
      ">>>>>>> [[ 2. 82. 91.]] 2023-10-11 14:27:00\n"
     ]
    },
    {
     "name": "stderr",
     "output_type": "stream",
     "text": [
      "c:\\repo\\python\\financial-api\\venv\\Lib\\site-packages\\sklearn\\base.py:465: UserWarning: X does not have valid feature names, but MinMaxScaler was fitted with feature names\n",
      "  warnings.warn(\n",
      "c:\\repo\\python\\financial-api\\venv\\Lib\\site-packages\\sklearn\\base.py:465: UserWarning: X does not have valid feature names, but MinMaxScaler was fitted with feature names\n",
      "  warnings.warn(\n"
     ]
    },
    {
     "name": "stdout",
     "output_type": "stream",
     "text": [
      "1/1 [==============================] - 0s 59ms/step\n",
      ">>>>>>> [[ 9. 81. 68.]] 2023-10-11 14:26:00\n",
      "1/1 [==============================] - 0s 63ms/step\n",
      ">>>>>>> [[23. 81. 38.]] 2023-10-11 14:25:00\n"
     ]
    },
    {
     "name": "stderr",
     "output_type": "stream",
     "text": [
      "c:\\repo\\python\\financial-api\\venv\\Lib\\site-packages\\sklearn\\base.py:465: UserWarning: X does not have valid feature names, but MinMaxScaler was fitted with feature names\n",
      "  warnings.warn(\n",
      "c:\\repo\\python\\financial-api\\venv\\Lib\\site-packages\\sklearn\\base.py:465: UserWarning: X does not have valid feature names, but MinMaxScaler was fitted with feature names\n",
      "  warnings.warn(\n"
     ]
    },
    {
     "name": "stdout",
     "output_type": "stream",
     "text": [
      "1/1 [==============================] - 0s 53ms/step\n",
      ">>>>>>> [[17. 82. 48.]] 2023-10-11 14:24:00\n",
      "1/1 [==============================] - 0s 45ms/step\n",
      ">>>>>>> [[21. 81. 42.]] 2023-10-11 14:23:00\n"
     ]
    },
    {
     "name": "stderr",
     "output_type": "stream",
     "text": [
      "c:\\repo\\python\\financial-api\\venv\\Lib\\site-packages\\sklearn\\base.py:465: UserWarning: X does not have valid feature names, but MinMaxScaler was fitted with feature names\n",
      "  warnings.warn(\n",
      "c:\\repo\\python\\financial-api\\venv\\Lib\\site-packages\\sklearn\\base.py:465: UserWarning: X does not have valid feature names, but MinMaxScaler was fitted with feature names\n",
      "  warnings.warn(\n"
     ]
    },
    {
     "name": "stdout",
     "output_type": "stream",
     "text": [
      "1/1 [==============================] - 0s 56ms/step\n",
      ">>>>>>> [[16. 82. 51.]] 2023-10-11 14:22:00\n",
      "1/1 [==============================] - 0s 36ms/step\n",
      ">>>>>>> [[20. 81. 43.]] 2023-10-11 14:21:00\n"
     ]
    },
    {
     "name": "stderr",
     "output_type": "stream",
     "text": [
      "c:\\repo\\python\\financial-api\\venv\\Lib\\site-packages\\sklearn\\base.py:465: UserWarning: X does not have valid feature names, but MinMaxScaler was fitted with feature names\n",
      "  warnings.warn(\n",
      "c:\\repo\\python\\financial-api\\venv\\Lib\\site-packages\\sklearn\\base.py:465: UserWarning: X does not have valid feature names, but MinMaxScaler was fitted with feature names\n",
      "  warnings.warn(\n"
     ]
    },
    {
     "name": "stdout",
     "output_type": "stream",
     "text": [
      "1/1 [==============================] - 0s 42ms/step\n",
      ">>>>>>> [[21. 81. 41.]] 2023-10-11 14:20:00\n",
      "1/1 [==============================] - 0s 46ms/step\n",
      ">>>>>>> [[22. 81. 40.]] 2023-10-11 14:19:00\n"
     ]
    },
    {
     "name": "stderr",
     "output_type": "stream",
     "text": [
      "c:\\repo\\python\\financial-api\\venv\\Lib\\site-packages\\sklearn\\base.py:465: UserWarning: X does not have valid feature names, but MinMaxScaler was fitted with feature names\n",
      "  warnings.warn(\n",
      "c:\\repo\\python\\financial-api\\venv\\Lib\\site-packages\\sklearn\\base.py:465: UserWarning: X does not have valid feature names, but MinMaxScaler was fitted with feature names\n",
      "  warnings.warn(\n"
     ]
    },
    {
     "name": "stdout",
     "output_type": "stream",
     "text": [
      "1/1 [==============================] - 0s 36ms/step\n",
      ">>>>>>> [[19. 82. 44.]] 2023-10-11 14:18:00\n",
      "1/1 [==============================] - ETA: 0s"
     ]
    },
    {
     "name": "stderr",
     "output_type": "stream",
     "text": [
      "c:\\repo\\python\\financial-api\\venv\\Lib\\site-packages\\sklearn\\base.py:465: UserWarning: X does not have valid feature names, but MinMaxScaler was fitted with feature names\n",
      "  warnings.warn(\n"
     ]
    },
    {
     "name": "stdout",
     "output_type": "stream",
     "text": [
      "1/1 [==============================] - 0s 58ms/step\n",
      ">>>>>>> [[25. 81. 36.]] 2023-10-11 14:17:00\n",
      "1/1 [==============================] - 0s 63ms/step\n",
      ">>>>>>> [[50. 79. 16.]] 2023-10-11 14:16:00\n"
     ]
    },
    {
     "name": "stderr",
     "output_type": "stream",
     "text": [
      "c:\\repo\\python\\financial-api\\venv\\Lib\\site-packages\\sklearn\\base.py:465: UserWarning: X does not have valid feature names, but MinMaxScaler was fitted with feature names\n",
      "  warnings.warn(\n",
      "c:\\repo\\python\\financial-api\\venv\\Lib\\site-packages\\sklearn\\base.py:465: UserWarning: X does not have valid feature names, but MinMaxScaler was fitted with feature names\n",
      "  warnings.warn(\n"
     ]
    },
    {
     "name": "stdout",
     "output_type": "stream",
     "text": [
      "1/1 [==============================] - 0s 48ms/step\n",
      ">>>>>>> [[42. 81. 20.]] 2023-10-11 14:15:00\n",
      "1/1 [==============================] - 0s 45ms/step\n",
      ">>>>>>> [[46. 80. 17.]] 2023-10-11 14:14:00\n"
     ]
    },
    {
     "name": "stderr",
     "output_type": "stream",
     "text": [
      "c:\\repo\\python\\financial-api\\venv\\Lib\\site-packages\\sklearn\\base.py:465: UserWarning: X does not have valid feature names, but MinMaxScaler was fitted with feature names\n",
      "  warnings.warn(\n",
      "c:\\repo\\python\\financial-api\\venv\\Lib\\site-packages\\sklearn\\base.py:465: UserWarning: X does not have valid feature names, but MinMaxScaler was fitted with feature names\n",
      "  warnings.warn(\n"
     ]
    },
    {
     "name": "stdout",
     "output_type": "stream",
     "text": [
      "1/1 [==============================] - 0s 44ms/step\n",
      ">>>>>>> [[28. 81. 32.]] 2023-10-11 14:13:00\n",
      "1/1 [==============================] - 0s 37ms/step\n",
      ">>>>>>> [[10. 82. 64.]] 2023-10-11 14:12:00\n"
     ]
    },
    {
     "name": "stderr",
     "output_type": "stream",
     "text": [
      "c:\\repo\\python\\financial-api\\venv\\Lib\\site-packages\\sklearn\\base.py:465: UserWarning: X does not have valid feature names, but MinMaxScaler was fitted with feature names\n",
      "  warnings.warn(\n",
      "c:\\repo\\python\\financial-api\\venv\\Lib\\site-packages\\sklearn\\base.py:465: UserWarning: X does not have valid feature names, but MinMaxScaler was fitted with feature names\n",
      "  warnings.warn(\n"
     ]
    },
    {
     "name": "stdout",
     "output_type": "stream",
     "text": [
      "1/1 [==============================] - 0s 51ms/step\n",
      ">>>>>>> [[ 6. 82. 75.]] 2023-10-11 14:11:00\n",
      "1/1 [==============================] - 0s 52ms/step\n",
      ">>>>>>> [[ 8. 82. 72.]] 2023-10-11 14:10:00\n"
     ]
    },
    {
     "name": "stderr",
     "output_type": "stream",
     "text": [
      "c:\\repo\\python\\financial-api\\venv\\Lib\\site-packages\\sklearn\\base.py:465: UserWarning: X does not have valid feature names, but MinMaxScaler was fitted with feature names\n",
      "  warnings.warn(\n",
      "c:\\repo\\python\\financial-api\\venv\\Lib\\site-packages\\sklearn\\base.py:465: UserWarning: X does not have valid feature names, but MinMaxScaler was fitted with feature names\n",
      "  warnings.warn(\n"
     ]
    },
    {
     "name": "stdout",
     "output_type": "stream",
     "text": [
      "1/1 [==============================] - 0s 58ms/step\n",
      ">>>>>>> [[39. 80. 23.]] 2023-10-11 14:09:00\n",
      "1/1 [==============================] - 0s 57ms/step\n",
      ">>>>>>> [[33. 81. 26.]] 2023-10-11 14:08:00\n"
     ]
    },
    {
     "name": "stderr",
     "output_type": "stream",
     "text": [
      "c:\\repo\\python\\financial-api\\venv\\Lib\\site-packages\\sklearn\\base.py:465: UserWarning: X does not have valid feature names, but MinMaxScaler was fitted with feature names\n",
      "  warnings.warn(\n",
      "c:\\repo\\python\\financial-api\\venv\\Lib\\site-packages\\sklearn\\base.py:465: UserWarning: X does not have valid feature names, but MinMaxScaler was fitted with feature names\n",
      "  warnings.warn(\n"
     ]
    },
    {
     "name": "stdout",
     "output_type": "stream",
     "text": [
      "1/1 [==============================] - 0s 86ms/step\n",
      ">>>>>>> [[30. 81. 30.]] 2023-10-11 14:07:00\n"
     ]
    },
    {
     "name": "stderr",
     "output_type": "stream",
     "text": [
      "c:\\repo\\python\\financial-api\\venv\\Lib\\site-packages\\sklearn\\base.py:465: UserWarning: X does not have valid feature names, but MinMaxScaler was fitted with feature names\n",
      "  warnings.warn(\n"
     ]
    },
    {
     "name": "stdout",
     "output_type": "stream",
     "text": [
      "1/1 [==============================] - 0s 138ms/step\n",
      ">>>>>>> [[11. 82. 62.]] 2023-10-11 14:06:00\n"
     ]
    },
    {
     "name": "stderr",
     "output_type": "stream",
     "text": [
      "c:\\repo\\python\\financial-api\\venv\\Lib\\site-packages\\sklearn\\base.py:465: UserWarning: X does not have valid feature names, but MinMaxScaler was fitted with feature names\n",
      "  warnings.warn(\n"
     ]
    },
    {
     "name": "stdout",
     "output_type": "stream",
     "text": [
      "1/1 [==============================] - 0s 101ms/step\n",
      ">>>>>>> [[ 4. 82. 83.]] 2023-10-11 14:05:00\n"
     ]
    },
    {
     "name": "stderr",
     "output_type": "stream",
     "text": [
      "c:\\repo\\python\\financial-api\\venv\\Lib\\site-packages\\sklearn\\base.py:465: UserWarning: X does not have valid feature names, but MinMaxScaler was fitted with feature names\n",
      "  warnings.warn(\n"
     ]
    },
    {
     "name": "stdout",
     "output_type": "stream",
     "text": [
      "1/1 [==============================] - 0s 81ms/step\n",
      ">>>>>>> [[ 2. 83. 92.]] 2023-10-11 14:04:00\n",
      "1/1 [==============================] - ETA: 0s"
     ]
    },
    {
     "name": "stderr",
     "output_type": "stream",
     "text": [
      "c:\\repo\\python\\financial-api\\venv\\Lib\\site-packages\\sklearn\\base.py:465: UserWarning: X does not have valid feature names, but MinMaxScaler was fitted with feature names\n",
      "  warnings.warn(\n"
     ]
    },
    {
     "name": "stdout",
     "output_type": "stream",
     "text": [
      "1/1 [==============================] - 0s 71ms/step\n",
      ">>>>>>> [[ 2. 82. 90.]] 2023-10-11 14:03:00\n",
      "1/1 [==============================] - ETA: 0s"
     ]
    },
    {
     "name": "stderr",
     "output_type": "stream",
     "text": [
      "c:\\repo\\python\\financial-api\\venv\\Lib\\site-packages\\sklearn\\base.py:465: UserWarning: X does not have valid feature names, but MinMaxScaler was fitted with feature names\n",
      "  warnings.warn(\n"
     ]
    },
    {
     "name": "stdout",
     "output_type": "stream",
     "text": [
      "1/1 [==============================] - 0s 68ms/step\n",
      ">>>>>>> [[10. 81. 65.]] 2023-10-11 14:02:00\n"
     ]
    }
   ],
   "source": [
    "from my_jupyter.market_data_repository import MarketDataRepository\n",
    "from datetime import datetime as dt \n",
    "mt_rep = MarketDataRepository()\n",
    "ohlc = mt_rep.read_data(\"WINV23\",mt_rep.mt.TIMEFRAME_M1,6)\n",
    "ohlc = mt_rep.mt.copy_rates_from_pos(\"WINV23\", mt_rep.mt.TIMEFRAME_M1, 0, 60)\n",
    "ohlc_0_based = ohlc[::-1]\n",
    "# print([ dt.fromtimestamp(i[0]) for i in ohlc_0_based])\n",
    "# bars_trend_ml.output(ohlc_0_based[1:])\n",
    "import numpy as np\n",
    "# import logging\n",
    "# logging.Logger.setLevel(logging.INFO)\n",
    "ohlc_transform = [ohlc_0_based[i:i+5][\"close\"] for i in range(1, len(ohlc_0_based)-5)]\n",
    "# ohlc_transform = [ i - min(i) for i in ohlc_transform ]\n",
    "ohlc_transform = [ i - i[-1]  for i in ohlc_transform ]\n",
    "print(ohlc_0_based[1], ohlc_transform[1])\n",
    "for i in range(0,len(ohlc_transform)):\n",
    "    print(\">>>>>>>\", np.round(bars_trend_ml.output(ohlc_transform[i])*100), dt.fromtimestamp(ohlc_0_based[i][\"time\"]))\n"
   ]
  }
 ],
 "metadata": {
  "interpreter": {
   "hash": "04635d289a519a1410467dd0afb0db42f9184808881ca68b2eb5a687a20a5a94"
  },
  "kernelspec": {
   "display_name": "Python 3.7.9 64-bit",
   "name": "python3"
  },
  "language_info": {
   "codemirror_mode": {
    "name": "ipython",
    "version": 3
   },
   "file_extension": ".py",
   "mimetype": "text/x-python",
   "name": "python",
   "nbconvert_exporter": "python",
   "pygments_lexer": "ipython3",
   "version": "3.11.4"
  },
  "orig_nbformat": 4
 },
 "nbformat": 4,
 "nbformat_minor": 2
}
