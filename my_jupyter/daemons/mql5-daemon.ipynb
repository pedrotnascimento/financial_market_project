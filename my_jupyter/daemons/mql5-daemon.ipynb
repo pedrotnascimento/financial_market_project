{
 "cells": [
  {
   "cell_type": "code",
   "execution_count": 1,
   "metadata": {},
   "outputs": [],
   "source": [
    "import os, sys\n",
    "dir1 = os.path.abspath('..\\..')\n",
    "sys.path.append(dir1+ \"\\\\\")\n",
    "\n",
    "import MetaTrader5 as mt\n",
    "from datetime import datetime as dt\n",
    "\n",
    "# custom\n",
    "from my_jupyter.user import User\n",
    "from my_jupyter.strategy_manager import StrategyManager\n",
    "from my_jupyter.operation import Operation\n",
    "from my_jupyter.strategies.min_max_strategy import MinMaxStrategy\n",
    "from my_jupyter.market_data_repository import MarketDataRepository\n",
    "# from Mbox import Mbox\n",
    "# from boleta_1 import gerar_boleta\n",
    "# from gerenciamento import Gerenciamento\n",
    "\n",
    "## GUI's\n",
    "from daemon_tools import DaemonThreadMini\n"
   ]
  },
  {
   "cell_type": "code",
   "execution_count": 2,
   "metadata": {},
   "outputs": [],
   "source": [
    "strategies = [MinMaxStrategy()]\n",
    "operation = Operation(\"WINV23\", 1, mt.TIMEFRAME_M1, True, True)\n",
    "user = User(strategies=strategies,operations=[operation], trading_time_start=dt.now())\n",
    "market_data_repository = MarketDataRepository()\n",
    "strategy = StrategyManager(market_data_repository, user)\n",
    "\n",
    "# PARAMETROS MAIN\n",
    "kwargs = {\n",
    "    'strategy': strategy,\n",
    "}\n",
    "\n",
    "def main(**kwargs):\n",
    "    _shift= 0 \n",
    "    strategy: StrategyManager = kwargs['strategy']\n",
    "    strategy.run_strategies()\n",
    "    print(f\"{dt.now().strftime('%d/%m/%Y, %H:%M:%S')} >>> D-{_shift}\")"
   ]
  },
  {
   "cell_type": "code",
   "execution_count": 3,
   "metadata": {},
   "outputs": [],
   "source": [
    "def exec_daemon(**kwargs):\n",
    "    main(**kwargs)\n",
    "    # alarme.ring_alarme()   "
   ]
  },
  {
   "cell_type": "code",
   "execution_count": 4,
   "metadata": {},
   "outputs": [
    {
     "name": "stdout",
     "output_type": "stream",
     "text": [
      "19/09/2023, 15:07:53 >>> D-0\n"
     ]
    }
   ],
   "source": [
    "# alarme = Alarme()\n",
    "# alarme.set_alarme(True)\n",
    "# alarme.filtrar_flag(sinais_abertura_daemon)\n",
    "# alarme.filtrar_papeis(papeis_ibov_elevado )\n",
    "# gerenciamento = Gerenciamento(mt, timeframe, timeframes_dict)\n",
    "\n",
    "try:\n",
    "    main(**kwargs)\n",
    "except Exception as e:\n",
    "    print(e.with_traceback(__tb=None))\n",
    "    # Mbox.Alerta(\"ERRO\", \"busca de sinais com erro\")\n"
   ]
  },
  {
   "cell_type": "code",
   "execution_count": 5,
   "metadata": {},
   "outputs": [
    {
     "ename": "ModuleNotFoundError",
     "evalue": "No module named 'daemons'",
     "output_type": "error",
     "traceback": [
      "\u001b[1;31m---------------------------------------------------------------------------\u001b[0m",
      "\u001b[1;31mModuleNotFoundError\u001b[0m                       Traceback (most recent call last)",
      "\u001b[1;32mc:\\repo\\python\\financial-api\\my_jupyter\\daemons\\mql5-daemon.ipynb Cell 5\u001b[0m line \u001b[0;36m1\n\u001b[1;32m----> <a href='vscode-notebook-cell:/c%3A/repo/python/financial-api/my_jupyter/daemons/mql5-daemon.ipynb#W4sZmlsZQ%3D%3D?line=0'>1</a>\u001b[0m \u001b[39mfrom\u001b[39;00m \u001b[39mdaemons\u001b[39;00m\u001b[39m.\u001b[39;00m\u001b[39mdaemon_tools\u001b[39;00m \u001b[39mimport\u001b[39;00m DaemonThreadMini\n\u001b[0;32m      <a href='vscode-notebook-cell:/c%3A/repo/python/financial-api/my_jupyter/daemons/mql5-daemon.ipynb#W4sZmlsZQ%3D%3D?line=3'>4</a>\u001b[0m thread_exec \u001b[39m=\u001b[39m DaemonThreadMini(exec_daemon, seconds\u001b[39m=\u001b[39m\u001b[39m15\u001b[39m, \u001b[39m*\u001b[39m\u001b[39m*\u001b[39mkwargs)\n\u001b[0;32m      <a href='vscode-notebook-cell:/c%3A/repo/python/financial-api/my_jupyter/daemons/mql5-daemon.ipynb#W4sZmlsZQ%3D%3D?line=4'>5</a>\u001b[0m thread_exec\u001b[39m.\u001b[39mstart()\n",
      "\u001b[1;31mModuleNotFoundError\u001b[0m: No module named 'daemons'"
     ]
    }
   ],
   "source": [
    "from my_jupyter.daemons.daemon_tools import DaemonThreadMini\n",
    "\n",
    "\n",
    "thread_exec = DaemonThreadMini(exec_daemon, seconds=15, **kwargs)\n",
    "thread_exec.start()"
   ]
  }
 ],
 "metadata": {
  "interpreter": {
   "hash": "04635d289a519a1410467dd0afb0db42f9184808881ca68b2eb5a687a20a5a94"
  },
  "kernelspec": {
   "display_name": "Python 3.7.9 64-bit",
   "name": "python3"
  },
  "language_info": {
   "codemirror_mode": {
    "name": "ipython",
    "version": 3
   },
   "file_extension": ".py",
   "mimetype": "text/x-python",
   "name": "python",
   "nbconvert_exporter": "python",
   "pygments_lexer": "ipython3",
   "version": "3.11.4"
  },
  "orig_nbformat": 4
 },
 "nbformat": 4,
 "nbformat_minor": 2
}
